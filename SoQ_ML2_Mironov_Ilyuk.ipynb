{
 "cells": [
  {
   "cell_type": "code",
   "execution_count": 1,
   "metadata": {},
   "outputs": [],
   "source": [
    "from PIL import Image\n",
    "from torch import nn\n",
    "from torch.nn import functional as F\n",
    "from torch.utils.data import DataLoader\n",
    "from torchvision.datasets import ImageFolder\n",
    "from tqdm import tqdm\n",
    "from torchvision.transforms import Compose\n",
    "from torch.utils.data import Subset\n",
    "from albumentations.pytorch import ToTensorV2\n",
    "\n",
    "from typing import *\n",
    "\n",
    "\n",
    "import math\n",
    "import os\n",
    "import random\n",
    "import sys\n",
    "\n",
    "import matplotlib.pyplot as plt\n",
    "import numpy as np\n",
    "import torch\n",
    "import albumentations as A\n",
    "import torchvision.transforms as ts\n",
    "\n",
    "\n",
    "ROOT_TRAIN = \"data/train\"\n",
    "ROOT_VAL = \"data/val\""
   ]
  },
  {
   "cell_type": "code",
   "execution_count": 2,
   "metadata": {},
   "outputs": [],
   "source": [
    "def seed_everything(seed):\n",
    "    # Фискирует максимум сидов.\n",
    "    # Это понадобится, чтобы сравнение различных моделей было корректным\n",
    "    random.seed(seed)\n",
    "    os.environ[\"PYTHONHASHSEED\"] = str(seed)\n",
    "    np.random.seed(seed)\n",
    "    torch.manual_seed(seed)\n",
    "    torch.cuda.manual_seed(seed)\n",
    "    torch.backends.cudnn.deterministic = True\n",
    "\n",
    "\n",
    "seed_everything(123456)"
   ]
  },
  {
   "cell_type": "markdown",
   "metadata": {},
   "source": [
    "<h4>ML Project 2. Image classification</h4>\n",
    "\n",
    "\n",
    "<h4>School of Quants. ML2 project. Tiny Image classification</h4>\n",
    "\n",
    "<a href=\"https://github.com/B0R0koko/TinyImageClassification200_SoQ_ML2\">Github repo</a>\n",
    "\n",
    "\n",
    "<p>In this project we trained EfficientNet model for image classification (Tiny Image Dataset)</p>\n",
    "<br/>\n",
    "<table>\n",
    "  <tr>\n",
    "    <th>Index</th>\n",
    "    <th>Model</th>\n",
    "  </tr>\n",
    "  <tr>\n",
    "    <td>EfficientNetb4_64x64_locally_trained</td>\n",
    "    <td>0.405</td>\n",
    "  </tr>\n",
    "  <tr>\n",
    "    <td>EfficientNetb4_224x224_ImageNet_pretrained_tuned</td>\n",
    "    <td>0.755</td>\n",
    "  </tr>\n",
    "</table>\n",
    "<br/>\n",
    "<ul>\n",
    "    <li>As the first part, we trained untrained EfficientNet model from scratch and get the accuracy on validation of 0.404. Grade - 9.02 / 10</li>\n",
    "    <li>As a second part of the task, we trained a pretrained EfficientNet model on Imagenet 1k dataset, we added the last layer to make the last dense layer output 200 values which matches the number of labels in the dataset. With this, we were able to achieve 0.755 accuracy on validation set, which is shy of the target 0.84, but still good enough. Grade 7.53 / 10</li>\n",
    "</ul>\n",
    "\n",
    "<p>Unpack zipped data file into data folder with train and val folders. Also in the log folder we have log files which tracked the progress of the training and validation. We used Tensorboard for tracking.</p>\n",
    "\n",
    "<br/>\n",
    "\n",
    "<img src=\"./imgs/image.png\" alt=\"Tensorboard. Model 1\" width=\"500\">"
   ]
  },
  {
   "cell_type": "markdown",
   "metadata": {},
   "source": [
    "<h4>Task 1</h4>"
   ]
  },
  {
   "cell_type": "code",
   "execution_count": 3,
   "metadata": {},
   "outputs": [],
   "source": [
    "# create dataloaders for train and val\n",
    "\n",
    "train_transform = Compose([\n",
    "    ts.RandomRotation(degrees=20),\n",
    "    ts.RandomHorizontalFlip(p=0.2),\n",
    "    ts.ToTensor(),\n",
    "    ts.Normalize((0.485, 0.456, 0.406), (0.229, 0.224, 0.225)),\n",
    "])\n",
    "\n",
    "val_transform = Compose([\n",
    "    ts.ToTensor(),\n",
    "    ts.Normalize((0.485, 0.456, 0.406), (0.229, 0.224, 0.225)),\n",
    "])\n",
    "\n",
    "\n",
    "train_dataset = ImageFolder(ROOT_TRAIN, transform=train_transform)\n",
    "val_dataset = ImageFolder(ROOT_VAL, transform=val_transform)\n",
    "\n",
    "train_dataloader = DataLoader(dataset=train_dataset, pin_memory=True, batch_size=128, shuffle=True)\n",
    "val_dataloader = DataLoader(dataset=val_dataset, pin_memory=True, batch_size=128, shuffle=True)"
   ]
  },
  {
   "cell_type": "code",
   "execution_count": 4,
   "metadata": {},
   "outputs": [
    {
     "name": "stderr",
     "output_type": "stream",
     "text": [
      "Clipping input data to the valid range for imshow with RGB data ([0..1] for floats or [0..255] for integers).\n"
     ]
    },
    {
     "data": {
      "image/png": "[encoded data removed]",
      "text/plain": [
       "<Figure size 640x480 with 1 Axes>"
      ]
     },
     "metadata": {},
     "output_type": "display_data"
    }
   ],
   "source": [
    "# show a couple of pictures\n",
    "for image, label in val_dataloader:\n",
    "\n",
    "    image = image[0].squeeze()\n",
    "    \n",
    "    # Transpose the dimensions to match the standard image dimensions (64, 64, 3)\n",
    "    image = np.transpose(image, (1, 2, 0))\n",
    "\n",
    "    plt.imshow(image)\n",
    "    plt.axis('off')\n",
    "    plt.show()\n",
    "    break"
   ]
  },
  {
   "cell_type": "markdown",
   "metadata": {},
   "source": [
    "<h4>Create Model and Trainer class</h4>\n",
    "\n",
    "<p>Here we are training EfficientNet_b4 model. I tried almost all architectures listed on Pytorch website and also attempted to apply multiple different transformations\n",
    "but still failed to reach the target of 0.44 accuracy, but we were able to get very close to it with the max validation score of 0.405</p>\n",
    "\n",
    "<p>Class structure and code snippets were taken from another course I am taking at university</p>\n",
    "\n",
    "<a href=\"https://github.com/fintech-dl-hse/course\">Github of the course</a>"
   ]
  },
  {
   "cell_type": "code",
   "execution_count": 5,
   "metadata": {},
   "outputs": [],
   "source": [
    "from abc import ABC, abstractmethod\n",
    "from torch import Tensor\n",
    "from torchvision.models import efficientnet_b4\n",
    "\n",
    "class Model(ABC):\n",
    "\n",
    "    @abstractmethod\n",
    "    def compute_batch(self, X_batch: torch.Tensor, label: torch.Tensor) -> torch.Tensor:\n",
    "        \"\"\"forward batch and compute evaluation metrics\"\"\"\n",
    "\n",
    "\n",
    "class MyNet(Model, nn.Module):\n",
    "\n",
    "    def __init__(self, *args, **kwargs) -> Self:\n",
    "        super().__init__(*args, **kwargs)\n",
    "        self.model = efficientnet_b4(weights=None, num_classes=200)\n",
    "        \n",
    "    def forward(self, x):\n",
    "        return self.model(x)\n",
    "    \n",
    "    def compute_batch(self, X_batch: Tensor, label: Tensor) -> Tuple[torch.Tensor, float]:\n",
    "        \n",
    "        logits: torch.Tensor = self.forward(X_batch)\n",
    "        loss: torch.Tensor = F.cross_entropy(logits, label)\n",
    "        # compare to ground truth\n",
    "        accuracy: np.array[bool] = (logits.argmax(axis=1) == label).float().mean().cpu().numpy()\n",
    "\n",
    "        return loss, accuracy"
   ]
  },
  {
   "cell_type": "code",
   "execution_count": 6,
   "metadata": {},
   "outputs": [],
   "source": [
    "# define trainer class for training and validation of the model\n",
    "from torch.utils.data import Dataset, DataLoader\n",
    "from torch.utils.tensorboard import SummaryWriter\n",
    "\n",
    "\n",
    "class Trainer:\n",
    "    def __init__(\n",
    "        self, model: Model, optimizer, train_loader: DataLoader, \n",
    "        val_loader: DataLoader, log_dir=\"log\"\n",
    "    ) -> Self:\n",
    "        \n",
    "        self.model: Model = model\n",
    "        self.optimizer = optimizer\n",
    "        self.device: str = torch.cuda.current_device() if torch.cuda.is_available() else \"cpu\"\n",
    "        # Train model on CUDA device or CPU\n",
    "        self.model = self.model.to(self.device)\n",
    "\n",
    "        # Create dataloaders for train and validation splits\n",
    "        self.train_loader: DataLoader = train_loader\n",
    "        self.val_loader: DataLoader = val_loader\n",
    "\n",
    "        # Log training process to Tensorboard\n",
    "        self.logger: SummaryWriter = SummaryWriter(log_dir=log_dir)\n",
    "        self.global_step: int = 0\n",
    "\n",
    "\n",
    "    def train_one_epoch(self) -> None:\n",
    "        # Set model into train mode \n",
    "        self.model.train()\n",
    "\n",
    "        X_batch: torch.Tensor\n",
    "        label: torch.Tensor\n",
    "\n",
    "        train_accuracies: List[float] = []\n",
    "\n",
    "        # Iterating over batches\n",
    "        for X_batch, label in tqdm(self.train_loader):\n",
    "            X_batch = X_batch.to(self.device) \n",
    "            label = label.to(self.device)\n",
    "\n",
    "            train_loss: torch.Tensor\n",
    "            train_accuracy: float\n",
    "            train_loss, train_accuracy = self.model.compute_batch(X_batch=X_batch, label=label)\n",
    "            train_accuracies.append(train_accuracy)\n",
    "\n",
    "            self.optimizer.zero_grad()\n",
    "            train_loss.backward()\n",
    "            self.optimizer.step()\n",
    "\n",
    "        # Take average train_accuracy across batches\n",
    "        train_accuracy = np.mean(train_accuracies)\n",
    "        self.logger.add_scalar(tag=\"train_accuracy\", scalar_value=train_accuracy, global_step=self.global_step)\n",
    "\n",
    "        val_accuracies: List[float] = []\n",
    "        # Iterate over val data\n",
    "        with torch.no_grad():\n",
    "            self.model.eval()\n",
    "\n",
    "            for X_batch, label in tqdm(self.val_loader):\n",
    "                X_batch = X_batch.to(self.device) \n",
    "                label = label.to(self.device)\n",
    "\n",
    "                val_loss: torch.Tensor\n",
    "                val_accuracy: float\n",
    "                val_loss, val_accuracy = self.model.compute_batch(X_batch=X_batch, label=label)\n",
    "                val_accuracies.append(val_accuracy)\n",
    "\n",
    "        val_accuracy = np.mean(val_accuracies)\n",
    "        self.logger.add_scalar(tag=\"val_accuracy\", scalar_value=val_accuracy, global_step=self.global_step)\n",
    "\n",
    "        self.global_step += 1\n",
    "\n",
    "\n",
    "    def train(self, num_epochs: int) -> None:\n",
    "        for epoch in range(num_epochs):\n",
    "            self.train_one_epoch()"
   ]
  },
  {
   "cell_type": "markdown",
   "metadata": {},
   "source": [
    "<h4>Start training process</h4>"
   ]
  },
  {
   "cell_type": "code",
   "execution_count": 7,
   "metadata": {},
   "outputs": [
    {
     "data": {
      "text/plain": [
       "<All keys matched successfully>"
      ]
     },
     "execution_count": 7,
     "metadata": {},
     "output_type": "execute_result"
    }
   ],
   "source": [
    "# load trained model (my own checkpoint)\n",
    "model = MyNet()\n",
    "model.load_state_dict(torch.load(\"trained_models/model_task1.pt\"))"
   ]
  },
  {
   "cell_type": "code",
   "execution_count": null,
   "metadata": {},
   "outputs": [],
   "source": [
    "model = MyNet()\n",
    "\n",
    "optimizer = torch.optim.Adam(model.parameters(), lr=1e-2)\n",
    "criterion = nn.CrossEntropyLoss()\n",
    "\n",
    "trainer = Trainer(\n",
    "    model=model, optimizer=optimizer, train_loader=train_dataloader, val_loader=val_dataloader,\n",
    "    log_dir=\"log/log_model1\"\n",
    ")\n",
    "\n",
    "trainer.train(num_epochs=10)"
   ]
  },
  {
   "cell_type": "code",
   "execution_count": 8,
   "metadata": {},
   "outputs": [],
   "source": [
    "# Here I use the code snippet provided in the file to evaluate the model and grade it\n",
    "def evaluate_task(model: Model, val_dataloader: DataLoader, device=\"cuda:0\"):\n",
    "    model = model.to(device)\n",
    "    model.eval()\n",
    "\n",
    "    val_accuracies = []\n",
    "\n",
    "    for images, labels in tqdm(val_dataloader):\n",
    "        images, labels = images.to(device), labels.to(device)\n",
    "        with torch.no_grad():\n",
    "            logits: torch.Tensor = model.forward(images)\n",
    "            # compare to ground truth\n",
    "            accuracy: np.array[bool] = (logits.argmax(axis=1) == labels).float().mean().cpu().numpy()\n",
    "            val_accuracies.append(accuracy)\n",
    "    \n",
    "    return np.mean(val_accuracies)"
   ]
  },
  {
   "cell_type": "code",
   "execution_count": 9,
   "metadata": {},
   "outputs": [
    {
     "name": "stderr",
     "output_type": "stream",
     "text": [
      "100%|██████████| 79/79 [00:06<00:00, 12.27it/s]"
     ]
    },
    {
     "name": "stdout",
     "output_type": "stream",
     "text": [
      "Оценка за это задание составит 9.02 баллов\n"
     ]
    },
    {
     "name": "stderr",
     "output_type": "stream",
     "text": [
      "\n"
     ]
    }
   ],
   "source": [
    "val_accuracy: float = evaluate_task(model=model, val_dataloader=val_dataloader)\n",
    "\n",
    "print(f\"Оценка за это задание составит {np.clip(10 * val_accuracy / 0.44, 0, 10):.2f} баллов\")"
   ]
  },
  {
   "cell_type": "code",
   "execution_count": null,
   "metadata": {},
   "outputs": [],
   "source": [
    "# save the model\n",
    "os.makedirs(\"trained_models\", exist_ok=True)\n",
    "\n",
    "torch.save(model.state_dict(), \"trained_models/model_task1.pt\")"
   ]
  },
  {
   "cell_type": "markdown",
   "metadata": {},
   "source": [
    "<h4>Task 2. Reach 0.84 accuracy on val set</h4>\n",
    "\n",
    "<p>We will perform transfer learning, we will use EfficientNet b4 pretrained on 1k Imagenet dataset, we will slightly adjust the last layer to match 200 labels in this dataset</p>"
   ]
  },
  {
   "cell_type": "code",
   "execution_count": 10,
   "metadata": {},
   "outputs": [],
   "source": [
    "train_transform = ts.Compose([\n",
    "    ts.Resize(size=(224, 224)),\n",
    "    ts.RandomRotation(20),\n",
    "    ts.RandomHorizontalFlip(0.5),\n",
    "    ts.ToTensor(),\n",
    "    ts.Normalize([0.4802, 0.4481, 0.3975], [0.2302, 0.2265, 0.2262]),\n",
    "])\n",
    "\n",
    "val_transform = ts.Compose([\n",
    "    ts.Resize(size=(224, 224)),\n",
    "    ts.ToTensor(),\n",
    "    ts.Normalize([0.4802, 0.4481, 0.3975], [0.2302, 0.2265, 0.2262]),\n",
    "])\n",
    "\n",
    "\n",
    "train_dataset = ImageFolder(ROOT_TRAIN, transform=train_transform)\n",
    "val_dataset = ImageFolder(ROOT_VAL, transform=val_transform)\n",
    "\n",
    "train_dataloader = DataLoader(\n",
    "    dataset=train_dataset, pin_memory=True, batch_size=32, shuffle=True\n",
    ")\n",
    "val_dataloader = DataLoader(\n",
    "    dataset=val_dataset, pin_memory=True, batch_size=32, shuffle=True\n",
    ")"
   ]
  },
  {
   "cell_type": "markdown",
   "metadata": {},
   "source": [
    "<h4>Transfer learning + Resizing</h4>\n",
    "\n",
    "<p>Use weights of the pretrained model and modify the last layer to match output size</p>"
   ]
  },
  {
   "cell_type": "code",
   "execution_count": 11,
   "metadata": {},
   "outputs": [],
   "source": [
    "from torchvision.models import swin_v2_b, Swin_V2_B_Weights\n",
    "from torchvision.models import resnet50, ResNet50_Weights\n",
    "from torchvision.models import EfficientNet_B4_Weights, efficientnet_b4\n",
    "\n",
    "\n",
    "class MyNet2(Model, nn.Module):\n",
    "\n",
    "    def __init__(self, *args, **kwargs) -> Self:\n",
    "        super().__init__(*args, **kwargs)\n",
    "\n",
    "        self.inner = nn.Sequential(\n",
    "            efficientnet_b4(weights=EfficientNet_B4_Weights.IMAGENET1K_V1),\n",
    "            nn.Linear(1000, 200)\n",
    "        )\n",
    "        \n",
    "    def forward(self, x):\n",
    "        return self.inner(x)\n",
    "    \n",
    "    def compute_batch(self, X_batch: Tensor, label: Tensor) -> Tuple[torch.Tensor, float]:\n",
    "        \n",
    "        logits: torch.Tensor = self.forward(X_batch)\n",
    "        loss: torch.Tensor = F.cross_entropy(logits, label)\n",
    "        # compare to ground truth\n",
    "        accuracy: np.array[bool] = (logits.argmax(axis=1) == label).float().mean().cpu().numpy()\n",
    "\n",
    "        return loss, accuracy"
   ]
  },
  {
   "cell_type": "code",
   "execution_count": null,
   "metadata": {},
   "outputs": [],
   "source": [
    "model2 = MyNet2()\n",
    "\n",
    "optimizer = torch.optim.Adam(model2.parameters(), lr=1e-3)\n",
    "criterion = nn.CrossEntropyLoss()\n",
    "\n",
    "trainer = Trainer(\n",
    "    model=model2, optimizer=optimizer, train_loader=train_dataloader, val_loader=val_dataloader, log_dir=\"log/log_model_2\"\n",
    ")\n",
    "\n",
    "trainer.train(num_epochs=10)"
   ]
  },
  {
   "cell_type": "code",
   "execution_count": null,
   "metadata": {},
   "outputs": [],
   "source": [
    "os.makedirs(\"trained_models\", exist_ok=True)\n",
    "\n",
    "torch.save(model2.state_dict(), \"trained_models/model_task2.pt\")"
   ]
  },
  {
   "cell_type": "code",
   "execution_count": 14,
   "metadata": {},
   "outputs": [
    {
     "data": {
      "text/plain": [
       "<All keys matched successfully>"
      ]
     },
     "execution_count": 14,
     "metadata": {},
     "output_type": "execute_result"
    }
   ],
   "source": [
    "model2 = MyNet2()\n",
    "model2.load_state_dict(torch.load(\"trained_models/model_task2.pt\"))"
   ]
  },
  {
   "cell_type": "code",
   "execution_count": 15,
   "metadata": {},
   "outputs": [
    {
     "name": "stderr",
     "output_type": "stream",
     "text": [
      "100%|██████████| 313/313 [00:23<00:00, 13.47it/s]"
     ]
    },
    {
     "name": "stdout",
     "output_type": "stream",
     "text": [
      "Оценка за это задание составит 7.53 баллов\n"
     ]
    },
    {
     "name": "stderr",
     "output_type": "stream",
     "text": [
      "\n"
     ]
    }
   ],
   "source": [
    "accuracy = evaluate_task(model2, val_dataloader)\n",
    "print(f\"Оценка за это задание составит {np.clip(10 * (accuracy - 0.5) / 0.34, 0, 10):.2f} баллов\")"
   ]
  }
 ],
 "metadata": {
  "kernelspec": {
   "display_name": "env",
   "language": "python",
   "name": "python3"
  },
  "language_info": {
   "codemirror_mode": {
    "name": "ipython",
    "version": 3
   },
   "file_extension": ".py",
   "mimetype": "text/x-python",
   "name": "python",
   "nbconvert_exporter": "python",
   "pygments_lexer": "ipython3",
   "version": "3.11.5"
  }
 },
 "nbformat": 4,
 "nbformat_minor": 2
}
